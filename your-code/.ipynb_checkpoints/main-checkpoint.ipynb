{
 "cells": [
  {
   "cell_type": "markdown",
   "metadata": {},
   "source": [
    "# Intro to Bayesian Statistics Lab\n",
    "\n",
    "Complete the following set of exercises to solidify your knowledge of Bayesian statistics and Bayesian data analysis."
   ]
  },
  {
   "cell_type": "code",
   "execution_count": 1,
   "metadata": {},
   "outputs": [],
   "source": [
    "import pandas as pd\n",
    "import numpy as np\n",
    "import matplotlib.pyplot as plt"
   ]
  },
  {
   "cell_type": "markdown",
   "metadata": {},
   "source": [
    "## 1. Cookie Problem\n",
    "\n",
    "Suppose we have two bowls of cookies. Bowl 1 contains 30 vanilla cookies and 10 chocolate cookies. Bowl 2 contains 20 of each. You randomly pick one cookie out of one of the bowls, and it is vanilla. Use Bayes Theorem to calculate the probability that the vanilla cookie you picked came from Bowl 1?"
   ]
  },
  {
   "cell_type": "code",
   "execution_count": 2,
   "metadata": {},
   "outputs": [],
   "source": [
    "#Definimos la función que recibe las previas por jarron y por galleta de cada jarron y responde las post\n",
    "def bayes_rule(priors, likelihoods):\n",
    "    marg = sum(np.multiply(priors, likelihoods))\n",
    "    post = np.divide(np.multiply(priors, likelihoods), marg)\n",
    "    return post"
   ]
  },
  {
   "cell_type": "code",
   "execution_count": 4,
   "metadata": {},
   "outputs": [
    {
     "data": {
      "text/plain": [
       "array([0.6, 0.4])"
      ]
     },
     "execution_count": 4,
     "metadata": {},
     "output_type": "execute_result"
    }
   ],
   "source": [
    "# Ponemos la prior que es caso de escoger cualquier jarron, al ser 2 jarrones es 50 y 50\n",
    "priors = [1/2, 1/2]\n",
    "#Ponemos en likelihoods las probabilidades que sean vainilla dado cada jarron\n",
    "likelihoods = [30/40, 20/40]\n",
    "post_calculado = bayes_rule(priors, likelihoods)\n",
    "post_calculado"
   ]
  },
  {
   "cell_type": "markdown",
   "metadata": {},
   "source": [
    "What is the probability that it came from Bowl 2?"
   ]
  },
  {
   "cell_type": "code",
   "execution_count": 8,
   "metadata": {},
   "outputs": [
    {
     "name": "stdout",
     "output_type": "stream",
     "text": [
      "La probabilidad que sea del Jar 1 dado que fue vainilla es: 60.0 %\n",
      "La probabilidad que sea del Jar 2 dado que fue vainilla es: 40.0 %\n"
     ]
    }
   ],
   "source": [
    "print('La probabilidad que sea del Jar 1 dado que fue vainilla es:', post_calculado[0]*100, '%')\n",
    "print('La probabilidad que sea del Jar 2 dado que fue vainilla es:', post_calculado[1]*100, '%')"
   ]
  },
  {
   "cell_type": "markdown",
   "metadata": {},
   "source": [
    "What if the cookie you had picked was chocolate? What are the probabilities that the chocolate cookie came from Bowl 1 and Bowl 2 respectively?"
   ]
  },
  {
   "cell_type": "code",
   "execution_count": 13,
   "metadata": {},
   "outputs": [
    {
     "name": "stdout",
     "output_type": "stream",
     "text": [
      "La probabilidad que sea del Jar 1 dado que fue chocolate es: 33.33333333333333 %\n",
      "La probabilidad que sea del Jar 2 dado que fue chocolate es: 66.66666666666666 %\n"
     ]
    }
   ],
   "source": [
    "#Cambiamos solamente los likelihoods\n",
    "likelihoods_chocolate = [10/40, 20/40]\n",
    "post_calculado2 = bayes_rule(priors, likelihoods_chocolate)\n",
    "\n",
    "print('La probabilidad que sea del Jar 1 dado que fue chocolate es:', post_calculado2[0]*100, '%')\n",
    "print('La probabilidad que sea del Jar 2 dado que fue chocolate es:', post_calculado2[1]*100, '%')"
   ]
  },
  {
   "cell_type": "markdown",
   "metadata": {},
   "source": [
    "## 2. Candy Problem\n",
    "\n",
    "Suppose you have two bags of candies:\n",
    "\n",
    "- In Bag 1, the mix of colors is:\n",
    "    - Brown - 30%\n",
    "    - Yellow - 20%\n",
    "    - Red - 20%\n",
    "    - Green - 10%\n",
    "    - Orange - 10%\n",
    "    - Tan - 10%\n",
    "    \n",
    "- In Bag 2, the mix of colors is:\n",
    "    - Blue - 24%\n",
    "    - Green - 20%\n",
    "    - Orange - 16%\n",
    "    - Yellow - 14%\n",
    "    - Red - 13%\n",
    "    - Brown - 13%\n",
    "    \n",
    "Not knowing which bag is which, you randomly draw one candy from each bag. One is yellow and one is green. What is the probability that the yellow one came from the Bag 1?\n",
    "\n",
    "*Hint: For the likelihoods, you will need to multiply the probabilities of drawing yellow from one bag and green from the other bag and vice versa.*"
   ]
  },
  {
   "cell_type": "code",
   "execution_count": 23,
   "metadata": {},
   "outputs": [
    {
     "data": {
      "text/plain": [
       "array([0.74074074, 0.25925926])"
      ]
     },
     "execution_count": 23,
     "metadata": {},
     "output_type": "execute_result"
    }
   ],
   "source": [
    "priors_candy = [1/2, 1/2]\n",
    "likelihoods_yellow = [(20/100)* (20/100), (14/100)*(10/100)]\n",
    "post_calculado3 = bayes_rule(priors_candy, likelihoods_yellow)\n"
   ]
  },
  {
   "cell_type": "markdown",
   "metadata": {},
   "source": [
    "What is the probability that the yellow candy came from Bag 2?"
   ]
  },
  {
   "cell_type": "code",
   "execution_count": 27,
   "metadata": {},
   "outputs": [
    {
     "name": "stdout",
     "output_type": "stream",
     "text": [
      "La probabilidad que sea de la bolsa 1 el dulce amarillo es: 74.07407407407408 %\n",
      "La probabilidad que sea de la bolsa 2 el dulce amarillo es: 25.925925925925924 %\n"
     ]
    }
   ],
   "source": [
    "print('La probabilidad que sea de la bolsa 1 el dulce amarillo es:', (post_calculado3[0]*100), '%')\n",
    "print('La probabilidad que sea de la bolsa 2 el dulce amarillo es:', (post_calculado3[1]*100), '%')"
   ]
  },
  {
   "cell_type": "markdown",
   "metadata": {},
   "source": [
    "What are the probabilities that the green one came from Bag 1 and Bag 2 respectively?"
   ]
  },
  {
   "cell_type": "code",
   "execution_count": null,
   "metadata": {},
   "outputs": [],
   "source": []
  },
  {
   "cell_type": "markdown",
   "metadata": {},
   "source": [
    "## 3. Monty Hall Problem\n",
    "\n",
    "Suppose you are a contestant on the popular game show *Let's Make a Deal*. The host of the show (Monty Hall) presents you with three doors - Door A, Door B, and Door C. He tells you that there is a sports car behind one of them and if you choose the correct one, you win the car!\n",
    "\n",
    "You select Door A, but then Monty makes things a little more interesting. He opens Door B to reveal that there is no sports car behind it and asks you if you would like to stick with your choice of Door A or switch your choice to Door C. Given this new information, what are the probabilities of you winning the car if you stick with Door A versus if you switch to Door C?"
   ]
  },
  {
   "cell_type": "code",
   "execution_count": 34,
   "metadata": {},
   "outputs": [
    {
     "name": "stdout",
     "output_type": "stream",
     "text": [
      "La probabilidad de ganar el coche quedandome con la puerta A es 33.33 %\n",
      "La probabilidad de ganar el coche cambiandome a la puerta C es  66.67 %\n"
     ]
    }
   ],
   "source": [
    "\"\"\"\n",
    "P(A|B) = (P(B|A)*P(A)) / P(B)\n",
    "\n",
    "P(door = A | opens = B), la probabilidad de A es correcta si Monty abrió la puerta B\n",
    "P(door = C | opens = B), la probabilidad de C es correcta si Monty abrió la puerta B\n",
    "\n",
    "Las priors, antes de abrir alguna puerta el seleccionar una puerta y que fuera correcta es de 1/3\n",
    "por lo tanto prior P(A) = 1/3\n",
    "\n",
    "P(door = A | opens = B), la probabilidad prior de que A contiene un coche es = 1/3\n",
    "P(door = C | opens = B), la probabilidad prior de que C contiene un coche es = 1/3\n",
    "\n",
    "Likelihood P(B|A) La probabilidad de B dado A\n",
    "Si el coche está detrás de la puerta A, entonces Monty puede abrir B o C. La probabilidad de abrir cualquiera de las dos es 50%\n",
    "PERO si el coche está detrás de la puerta C, entonces Monty solamente puede abrir la B y no puede seleccionar la A porque ya\n",
    "se eligió. \n",
    "\n",
    "P(opens = B | door = A), la probabilidad (likelihood) que Monty abra la puerta B si el premio está en la A es de 1/2\n",
    "P(opens = B | door = C), la probabilidad (likelihood) que Monty abra la puerta B si el premio está en la C es de 1\n",
    "\n",
    "\n",
    "P(A) X P(B|A)\n",
    "P(door = A) X P(opens = B| door = A) 1/3 X 1/2 = 1/6\n",
    "P(door = C) X P(opens = B| door = C) 1/3 X 1/1 = 1/3\n",
    "\n",
    "P(B) = 1/6 + 1/3 = 3/6 = 1/2\n",
    "\n",
    "Posterior P(A|B)\n",
    "P(door = A| opens = B) = (1/6) / (1/2) = 2/6 = 1/3\n",
    "P(door = C| opens = B) = (1/3) / (1/2) = 2/3\n",
    "\n",
    "Por lo tanto cuando seleccionas la puerta A y no cambias te quedas con una oportunidad del 1/3  mientras que cuando decides\n",
    "cambiar de puerta a la C aumentas tus probabilidades de ganar a 2/3\n",
    "\"\"\"\n",
    "\n",
    "priors_Monty = (1/3, 1/3, 1/3)\n",
    "# Recordar que en likelihood como es la probabilidad de abrir B dado que C tiene el coche tiene que ser 1\n",
    "likelihoods_Monty = (1/2, 0, 1)\n",
    "post_Monty = bayes_rule(priors_Monty, likelihoods_Monty)\n",
    "print('La probabilidad de ganar el coche quedandome con la puerta A es', round(post_Monty[0],4)*100, '%')\n",
    "print('La probabilidad de ganar el coche cambiandome a la puerta C es ', round(post_Monty[2],4)*100, '%')"
   ]
  },
  {
   "cell_type": "markdown",
   "metadata": {},
   "source": [
    "## 4. Bayesian Analysis \n",
    "\n",
    "Suppose you work for a landscaping company, and they want to advertise their service online. They create an ad and sit back waiting for the money to roll in. On the first day, the ad sends 100 visitors to the site and 14 of them sign up for landscaping services. Create a generative model to come up with the posterior distribution and produce a visualization of what the posterior distribution would look like given the observed data."
   ]
  },
  {
   "cell_type": "code",
   "execution_count": 55,
   "metadata": {},
   "outputs": [],
   "source": [
    "ndraws = 100000\n",
    "observed = 14\n",
    "#Como no conocemos las priors puede ser un 0 o un 1 y ponemos una muestra de 100,000 como en el ejercicio \n",
    "prior = pd.Series(np.random.uniform(0,1,size = ndraws ))"
   ]
  },
  {
   "cell_type": "code",
   "execution_count": 56,
   "metadata": {},
   "outputs": [],
   "source": [
    "def generative_model(param):\n",
    "    result = np.random.binomial(100,param)\n",
    "    return result"
   ]
  },
  {
   "cell_type": "code",
   "execution_count": 58,
   "metadata": {},
   "outputs": [],
   "source": [
    "simulation_data = list()                                                \n",
    "for p in prior:\n",
    "    simulation_data.append(generative_model(p))\n",
    "\n",
    "posterior = prior[list(map(lambda x : x == observed, simulation_data))]\n",
    "                  "
   ]
  },
  {
   "cell_type": "markdown",
   "metadata": {},
   "source": [
    "Produce a set of descriptive statistics for the posterior distribution."
   ]
  },
  {
   "cell_type": "code",
   "execution_count": 59,
   "metadata": {},
   "outputs": [
    {
     "data": {
      "text/plain": [
       "<AxesSubplot:>"
      ]
     },
     "execution_count": 59,
     "metadata": {},
     "output_type": "execute_result"
    },
    {
     "data": {
      "image/png": "[encoded data removed]",
      "text/plain": [
       "<Figure size 432x288 with 1 Axes>"
      ]
     },
     "metadata": {
      "needs_background": "light"
     },
     "output_type": "display_data"
    }
   ],
   "source": [
    "posterior.hist()"
   ]
  },
  {
   "cell_type": "markdown",
   "metadata": {},
   "source": [
    "What is the 90% credible interval range?"
   ]
  },
  {
   "cell_type": "code",
   "execution_count": 60,
   "metadata": {},
   "outputs": [
    {
     "data": {
      "text/plain": [
       "count    986.000000\n",
       "mean       0.147581\n",
       "std        0.034205\n",
       "min        0.068590\n",
       "25%        0.122047\n",
       "50%        0.144573\n",
       "75%        0.168383\n",
       "max        0.246731\n",
       "dtype: float64"
      ]
     },
     "execution_count": 60,
     "metadata": {},
     "output_type": "execute_result"
    }
   ],
   "source": [
    "posterior.describe()"
   ]
  },
  {
   "cell_type": "code",
   "execution_count": 63,
   "metadata": {},
   "outputs": [
    {
     "name": "stdout",
     "output_type": "stream",
     "text": [
      "0.12204707385312655 | 0.22207708102019597\n"
     ]
    }
   ],
   "source": [
    "print(posterior.quantile(0.25), '|', posterior.quantile(0.975))"
   ]
  },
  {
   "cell_type": "markdown",
   "metadata": {},
   "source": [
    "What is the Maximum Likelihood Estimate?"
   ]
  },
  {
   "cell_type": "code",
   "execution_count": 65,
   "metadata": {},
   "outputs": [
    {
     "name": "stdout",
     "output_type": "stream",
     "text": [
      "Maximum Likelihood estimated: 0.14 | 0.11156186612576065\n"
     ]
    }
   ],
   "source": [
    "rounded = posterior.round(2)\n",
    "mode = rounded.mode()[0]\n",
    "probability = list(rounded).count(mode) / len(rounded)\n",
    "print('Maximum Likelihood estimated:', mode, '|', probability)"
   ]
  }
 ],
 "metadata": {
  "kernelspec": {
   "display_name": "Python 3",
   "language": "python",
   "name": "python3"
  },
  "language_info": {
   "codemirror_mode": {
    "name": "ipython",
    "version": 3
   },
   "file_extension": ".py",
   "mimetype": "text/x-python",
   "name": "python",
   "nbconvert_exporter": "python",
   "pygments_lexer": "ipython3",
   "version": "3.8.9"
  }
 },
 "nbformat": 4,
 "nbformat_minor": 2
}
