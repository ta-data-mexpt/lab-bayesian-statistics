{
 "cells": [
  {
   "cell_type": "markdown",
   "metadata": {},
   "source": [
    "# Intro to Bayesian Statistics Lab\n",
    "\n",
    "Complete the following set of exercises to solidify your knowledge of Bayesian statistics and Bayesian data analysis."
   ]
  },
  {
   "cell_type": "code",
   "execution_count": 1,
   "metadata": {},
   "outputs": [],
   "source": [
    "import pandas as pd\n",
    "import numpy as np\n",
    "import matplotlib.pyplot as plt"
   ]
  },
  {
   "cell_type": "markdown",
   "metadata": {},
   "source": [
    "## 1. Cookie Problem\n",
    "\n",
    "Suppose we have two bowls of cookies. Bowl 1 contains 30 vanilla cookies and 10 chocolate cookies. Bowl 2 contains 20 of each. You randomly pick one cookie out of one of the bowls, and it is vanilla. Use Bayes Theorem to calculate the probability that the vanilla cookie you picked came from Bowl 1?"
   ]
  },
  {
   "cell_type": "code",
   "execution_count": 10,
   "metadata": {},
   "outputs": [
    {
     "data": {
      "text/plain": [
       "array([0.6, 0.4])"
      ]
     },
     "execution_count": 10,
     "metadata": {},
     "output_type": "execute_result"
    }
   ],
   "source": [
    "#Probabilidad de tomar una galleta del bowl 1 y del bowl 2\n",
    "priors = [1/2, 1/2]\n",
    "\n",
    "#Probabilidad de que la galleta es de vainillia, sea del bowl 1 o del bowl 2\n",
    "#Bowl 1 son 30 de 40 y Bowl2 son 20 de 40\n",
    "likelihoods = [3/4, 1/2]\n",
    "\n",
    "\n",
    "def bayes (priors, likelihoods):\n",
    "  marginal = sum(np.multiply(priors, likelihoods))\n",
    "  num = np.multiply(priors, likelihoods) #np.multiply(priors, likelihoods) = [1/2, 1/4]. Multiplica el array elemento x elemento\n",
    "  posteriori = np.divide(num, marginal)\n",
    "  return posteriori\n",
    "\n",
    "bayes(priors, likelihoods)"
   ]
  },
  {
   "cell_type": "code",
   "execution_count": 5,
   "metadata": {},
   "outputs": [],
   "source": [
    "#La probabilidad de que la galleta de vainilla venga del bowl 1 es de 60.00%"
   ]
  },
  {
   "cell_type": "markdown",
   "metadata": {},
   "source": [
    "What is the probability that it came from Bowl 2?"
   ]
  },
  {
   "cell_type": "code",
   "execution_count": 6,
   "metadata": {},
   "outputs": [],
   "source": [
    "#La probabilidad de que la galleta de vainilla venga del bowl 2 es de 40.00%"
   ]
  },
  {
   "cell_type": "markdown",
   "metadata": {},
   "source": [
    "What if the cookie you had picked was chocolate? What are the probabilities that the chocolate cookie came from Bowl 1 and Bowl 2 respectively?"
   ]
  },
  {
   "cell_type": "code",
   "execution_count": 11,
   "metadata": {},
   "outputs": [
    {
     "data": {
      "text/plain": [
       "array([0.33333333, 0.66666667])"
      ]
     },
     "execution_count": 11,
     "metadata": {},
     "output_type": "execute_result"
    }
   ],
   "source": [
    "#Probabilidad de tomar una galleta del bowl 1 y del bowl 2\n",
    "priors = [1/2, 1/2]\n",
    "\n",
    "#Probabilidad de que si la galleta es de chocolate, sea del bowl 1 o del bowl 2\n",
    "#Bowl 1 son 10 de 40 y Bowl2 son 20 de 40\n",
    "likelihoods = [1/4, 1/2]\n",
    "\n",
    "bayes(priors, likelihoods)"
   ]
  },
  {
   "cell_type": "code",
   "execution_count": 13,
   "metadata": {},
   "outputs": [],
   "source": [
    "#La probabilidad de que la galleta de chocolate venga del bowl 1 es de 33.33%\n",
    "#La probabilidad de que la galleta de chocolate venga del bowl 2 es de 66.67%"
   ]
  },
  {
   "cell_type": "markdown",
   "metadata": {},
   "source": [
    "## 2. Candy Problem\n",
    "\n",
    "Suppose you have two bags of candies:\n",
    "\n",
    "- In Bag 1, the mix of colors is:\n",
    "    - Brown - 30%\n",
    "    - Yellow - 20%\n",
    "    - Red - 20%\n",
    "    - Green - 10%\n",
    "    - Orange - 10%\n",
    "    - Tan - 10%\n",
    "    \n",
    "- In Bag 2, the mix of colors is:\n",
    "    - Blue - 24%\n",
    "    - Green - 20%\n",
    "    - Orange - 16%\n",
    "    - Yellow - 14%\n",
    "    - Red - 13%\n",
    "    - Brown - 13%\n",
    "    \n",
    "Not knowing which bag is which, you randomly draw one candy from each bag. One is yellow and one is green. What is the probability that the yellow one came from the Bag 1?\n",
    "\n",
    "*Hint: For the likelihoods, you will need to multiply the probabilities of drawing yellow from one bag and green from the other bag and vice versa.*"
   ]
  },
  {
   "cell_type": "code",
   "execution_count": 12,
   "metadata": {},
   "outputs": [
    {
     "data": {
      "text/plain": [
       "array([0.58823529, 0.41176471])"
      ]
     },
     "execution_count": 12,
     "metadata": {},
     "output_type": "execute_result"
    }
   ],
   "source": [
    "#Probabilidad de tomar una dulce de la bolsa 1 y de la bolsa 2\n",
    "priors = [1/2, 1/2]\n",
    "\n",
    "#Probabilidad de que el dulce amarillo venga de la bolsa 1 y de la bolsa 2\n",
    "likelihoods = [0.20, 0.14]\n",
    "\n",
    "bayes(priors, likelihoods)"
   ]
  },
  {
   "cell_type": "code",
   "execution_count": 14,
   "metadata": {},
   "outputs": [],
   "source": [
    "#La probabilidad de que el dulce amarillo venga de la bolsa 1 es de 58.82%"
   ]
  },
  {
   "cell_type": "markdown",
   "metadata": {},
   "source": [
    "What is the probability that the yellow candy came from Bag 2?"
   ]
  },
  {
   "cell_type": "code",
   "execution_count": 15,
   "metadata": {},
   "outputs": [],
   "source": [
    "#La probabilidad de que el dulce amarillo venga de la bolsa 2 es de 41.18%"
   ]
  },
  {
   "cell_type": "markdown",
   "metadata": {},
   "source": [
    "What are the probabilities that the green one came from Bag 1 and Bag 2 respectively?"
   ]
  },
  {
   "cell_type": "code",
   "execution_count": 17,
   "metadata": {},
   "outputs": [
    {
     "data": {
      "text/plain": [
       "array([0.33333333, 0.66666667])"
      ]
     },
     "execution_count": 17,
     "metadata": {},
     "output_type": "execute_result"
    }
   ],
   "source": [
    "#Probabilidad de tomar una dulce de la bolsa 1 y de la bolsa 2\n",
    "priors = [1/2, 1/2]\n",
    "\n",
    "#Probabilidad de que el dulce verde venga de la bolsa 1 y de la bolsa 2\n",
    "likelihoods = [0.10, 0.20]\n",
    "\n",
    "bayes(priors, likelihoods)"
   ]
  },
  {
   "cell_type": "code",
   "execution_count": 18,
   "metadata": {},
   "outputs": [],
   "source": [
    "#La probabilidad de que el dulce verde venga de la bolsa 1 es de 33.33%\n",
    "#La probabilidad de que el dulce verde venga de la bolsa 2 es de 66.67%"
   ]
  },
  {
   "cell_type": "markdown",
   "metadata": {},
   "source": [
    "## 3. Monty Hall Problem\n",
    "\n",
    "Suppose you are a contestant on the popular game show *Let's Make a Deal*. The host of the show (Monty Hall) presents you with three doors - Door A, Door B, and Door C. He tells you that there is a sports car behind one of them and if you choose the correct one, you win the car!\n",
    "\n",
    "You select Door A, but then Monty makes things a little more interesting. He opens Door B to reveal that there is no sports car behind it and asks you if you would like to stick with your choice of Door A or switch your choice to Door C. Given this new information, what are the probabilities of you winning the car if you stick with Door A versus if you switch to Door C?"
   ]
  },
  {
   "cell_type": "code",
   "execution_count": 34,
   "metadata": {},
   "outputs": [
    {
     "data": {
      "text/plain": [
       "array([0.33333333, 0.33333333, 0.33333333])"
      ]
     },
     "execution_count": 34,
     "metadata": {},
     "output_type": "execute_result"
    }
   ],
   "source": [
    "# ALTERNATIVA 1 : QUEDARNOS CON LA SELECCION DE LA PUERTA A\n",
    "\n",
    "#Probabilidad de que el carro esté en la puerta A, B o C antes de iniciar el juego:\n",
    "priors = [1/3, 1/3, 1/3]\n",
    "\n",
    "#Tenemos la probabilidad de haber elegido la puerta con el carro de 1/3 \n",
    "#y de no haber elegido la puerta con el carro de 2/3\n",
    "\n",
    "#El presentador abre la puerta B y observamos que ahí no está el carro.\n",
    "\n",
    "#La probabilidad de nuestra elección no cambia, a pesar de que el host abriera la puerta B y supieramos que no está \n",
    "#el carro ahí, ya que la decisión de elegir la puerta A se hizo antes de que el host abriera la puerta B.\n",
    "\n",
    "likelihoods = [0.33, 0.33, 0.33]\n",
    "\n",
    "bayes(priors, likelihoods)"
   ]
  },
  {
   "cell_type": "code",
   "execution_count": 35,
   "metadata": {},
   "outputs": [],
   "source": [
    "# La probabilidad de que ganes el carro si te quedas con la elección previa de la puerta A es de 33.33%\n",
    "\n",
    "#Si nos quedamos con la puerta elegida inicialmente, tenemos 1/3 de probabilidad de haber elegido la puerta \n",
    "#que contenía el premio del carro, y tenemos 2/3 de probabilidad de no haber elegido la puerta con carro"
   ]
  },
  {
   "cell_type": "code",
   "execution_count": 40,
   "metadata": {},
   "outputs": [
    {
     "data": {
      "text/plain": [
       "array([0.33333333, 0.        , 0.66666667])"
      ]
     },
     "execution_count": 40,
     "metadata": {},
     "output_type": "execute_result"
    }
   ],
   "source": [
    "# ALTERNATIVA 2 : CAMBIAR DE SELECCIÓN A LA PUERTA C\n",
    "\n",
    "#Probabilidad de que el carro esté en la puerta A, B o C antes de iniciar el juego:\n",
    "priors = [1/3, 1/3, 1/3]\n",
    "\n",
    "#Tenemos la probabilidad de haber elegido la puerta con el carro de 1/3,\n",
    "#y de no haber elegido la puerta con el carro de 2/3\n",
    "\n",
    "#El presentador abre la puerta B y observamos que ahí no está el carro.\n",
    "\n",
    "#Si la elección inicial de la puerta A tuviera el carro (33.33%) y cambiamos de puerta, elegiríamos una puerta vacía.\n",
    "#Si la elección inicial de la puerta A no tuviera el carro (66.66%) y cambiamos de puerta, elegiríamos la puerta con\n",
    "#el carro, ya que el presentador abrió una puerta que no tenía el carro y solo quedaría la puerta con carro.\n",
    "\n",
    "#Por tal motivo es conveniente cambiar de puerta.\n",
    "\n",
    "#Las probabilidades de que el carro esté en la puerta A, B, C, cambian\n",
    "priors = [1/3, 0, 2/3]\n",
    "likelihoods = [0.33, 0.00, 0.33]\n",
    "\n",
    "bayes(priors, likelihoods)"
   ]
  },
  {
   "cell_type": "code",
   "execution_count": 41,
   "metadata": {},
   "outputs": [],
   "source": [
    "# La probabilidad de que ganes el carro si cambias tu elección inicial, y decides cambiar a la puerta C es de 66.66%"
   ]
  },
  {
   "cell_type": "markdown",
   "metadata": {},
   "source": [
    "## 4. Bayesian Analysis \n",
    "\n",
    "Suppose you work for a landscaping company, and they want to advertise their service online. They create an ad and sit back waiting for the money to roll in. On the first day, the ad sends 100 visitors to the site and 14 of them sign up for landscaping services. Create a generative model to come up with the posterior distribution and produce a visualization of what the posterior distribution would look like given the observed data."
   ]
  },
  {
   "cell_type": "code",
   "execution_count": 49,
   "metadata": {},
   "outputs": [
    {
     "data": {
      "image/png": "[encoded data removed]",
      "text/plain": [
       "<Figure size 432x288 with 1 Axes>"
      ]
     },
     "metadata": {
      "needs_background": "light"
     },
     "output_type": "display_data"
    }
   ],
   "source": [
    "#Primeramente creamos una distribución uniforme de lo que podría pasar con la publicidad en línea de la compañía\n",
    "\n",
    "n_draws = 100000\n",
    "\n",
    "prior = pd.Series(np.random.uniform(0, 1, size = n_draws))\n",
    "\n",
    "prior.hist()\n",
    "plt.show()"
   ]
  },
  {
   "cell_type": "code",
   "execution_count": 44,
   "metadata": {},
   "outputs": [],
   "source": [
    "#Del primer día, observamos qeu 14 personas de las 100 visitantes se registraron para contratar los servicios\n",
    "observed = 14"
   ]
  },
  {
   "cell_type": "code",
   "execution_count": 46,
   "metadata": {},
   "outputs": [],
   "source": [
    "#Creamos el modelo generativo, con los parametros de 100 visitantes que fue lo que vimos en el primer día.\n",
    "\n",
    "def generative_model(param):\n",
    "    result = np.random.binomial(100, param)\n",
    "    return result"
   ]
  },
  {
   "cell_type": "code",
   "execution_count": 53,
   "metadata": {},
   "outputs": [],
   "source": [
    "#Creamos una lista para ir agregando cada uno de los valores que obtengamos en nuestro modelo generativo de los de \n",
    "#la lista que creamos previamente (prior)\n",
    "\n",
    "sim_data = list()\n",
    "\n",
    "for p in prior:\n",
    "    sim_data.append(generative_model(p))"
   ]
  },
  {
   "cell_type": "code",
   "execution_count": 55,
   "metadata": {},
   "outputs": [],
   "source": [
    "#Para llegar a nuestra distribución posterior, vamos a seleccionar los valores de la distribución que sean iguales\n",
    "#al valor que observamos el primer día, 14.\n",
    "\n",
    "posterior = prior[list(map(lambda x: x == observed, sim_data))]"
   ]
  },
  {
   "cell_type": "code",
   "execution_count": 59,
   "metadata": {},
   "outputs": [
    {
     "data": {
      "image/png": "[encoded data removed]",
      "text/plain": [
       "<Figure size 432x288 with 1 Axes>"
      ]
     },
     "metadata": {
      "needs_background": "light"
     },
     "output_type": "display_data"
    }
   ],
   "source": [
    "#Vemos la distribución de nuestra distribución posterior\n",
    "posterior.hist()\n",
    "plt.show()"
   ]
  },
  {
   "cell_type": "code",
   "execution_count": 60,
   "metadata": {},
   "outputs": [],
   "source": [
    "#Vemos que la probabilidad de que algún visitante contrate nuestros servicios de publicidad va de un 7% a un 23% aproximadamente"
   ]
  },
  {
   "cell_type": "markdown",
   "metadata": {},
   "source": [
    "Produce a set of descriptive statistics for the posterior distribution."
   ]
  },
  {
   "cell_type": "code",
   "execution_count": 58,
   "metadata": {},
   "outputs": [
    {
     "data": {
      "text/plain": [
       "count    1022.000000\n",
       "mean        0.147307\n",
       "std         0.034731\n",
       "min         0.055286\n",
       "25%         0.121960\n",
       "50%         0.146360\n",
       "75%         0.169342\n",
       "max         0.272503\n",
       "dtype: float64"
      ]
     },
     "execution_count": 58,
     "metadata": {},
     "output_type": "execute_result"
    }
   ],
   "source": [
    "posterior.describe()"
   ]
  },
  {
   "cell_type": "markdown",
   "metadata": {},
   "source": [
    "What is the 90% credible interval range?"
   ]
  },
  {
   "cell_type": "code",
   "execution_count": 67,
   "metadata": {},
   "outputs": [
    {
     "name": "stdout",
     "output_type": "stream",
     "text": [
      "(0.09504814843253771, 0.20937385333210817)\n"
     ]
    }
   ],
   "source": [
    "#Creamos un intervalo de confianza del 90%, centrado, de dos colas \n",
    "\n",
    "print(f'({posterior.quantile(0.05)}, {posterior.quantile(0.95)})')"
   ]
  },
  {
   "cell_type": "markdown",
   "metadata": {},
   "source": [
    "What is the Maximum Likelihood Estimate?"
   ]
  },
  {
   "cell_type": "code",
   "execution_count": 91,
   "metadata": {},
   "outputs": [
    {
     "name": "stdout",
     "output_type": "stream",
     "text": [
      "Maximum Likelihood Estimate ==> Valor: 0.15 | Probabilidad: 12.426614481409 %\n"
     ]
    }
   ],
   "source": [
    "#Calculamos la Maximum Likelihood Estimate \n",
    "\n",
    "#Redondeamos a 2 decimales la distribución que obtuvimos en posteriori\n",
    "rounded = posterior.round(2)\n",
    "\n",
    "#Calculamos el valor más repetido, la moda\n",
    "mode = rounded.mode()[0]\n",
    "\n",
    "#Calculamos la probabilidad del valor que más veces ocurrió\n",
    "#Primero contamos las veces que salió el valor más repetido (moda) y dividimos entre el total de observaciones.\n",
    "probability = list(rounded).count(mode)/len(rounded)\n",
    "\n",
    "#Imprimimos el resultado\n",
    "print('Maximum Likelihood Estimate ==> Valor:', mode, '| Probabilidad:', probability * 100, '%')"
   ]
  }
 ],
 "metadata": {
  "kernelspec": {
   "display_name": "Python 3",
   "language": "python",
   "name": "python3"
  },
  "language_info": {
   "codemirror_mode": {
    "name": "ipython",
    "version": 3
   },
   "file_extension": ".py",
   "mimetype": "text/x-python",
   "name": "python",
   "nbconvert_exporter": "python",
   "pygments_lexer": "ipython3",
   "version": "3.8.5"
  }
 },
 "nbformat": 4,
 "nbformat_minor": 2
}
