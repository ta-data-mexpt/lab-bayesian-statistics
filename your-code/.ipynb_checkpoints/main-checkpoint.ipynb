{
 "cells": [
  {
   "cell_type": "markdown",
   "metadata": {},
   "source": [
    "# Intro to Bayesian Statistics Lab\n",
    "\n",
    "Complete the following set of exercises to solidify your knowledge of Bayesian statistics and Bayesian data analysis."
   ]
  },
  {
   "cell_type": "code",
   "execution_count": 3,
   "metadata": {},
   "outputs": [],
   "source": [
    "import pandas as pd\n",
    "import numpy as np\n",
    "import matplotlib.pyplot as plt"
   ]
  },
  {
   "cell_type": "markdown",
   "metadata": {},
   "source": [
    "## 1. Cookie Problem\n",
    "\n",
    "Suppose we have two bowls of cookies. Bowl 1 contains 30 vanilla cookies and 10 chocolate cookies. Bowl 2 contains 20 of each. You randomly pick one cookie out of one of the bowls, and it is vanilla. Use Bayes Theorem to calculate the probability that the vanilla cookie you picked came from Bowl 1?"
   ]
  },
  {
   "cell_type": "code",
   "execution_count": 4,
   "metadata": {},
   "outputs": [],
   "source": [
    "#Prior probability that the vainilla cookie came from Bowl 1 or Bowl 2\n",
    "#Prior probability of Bowl 1: 1/2 = 50%\n",
    "#Prior Probability of Bowl 2: 1/2 = 50%\n",
    "\n",
    "#Likelihoods, probability that it is  vainilla cookie if it came from each bowl\n",
    "#Likehood vanilla cookie of Bowl 1: 3/4 = 75%\n",
    "#Likehood vanilla cookie of Bowl 1.1: 1/4 = 25%\n",
    "#likehood vanilla cookie of bowl 2: 1/2 = 50%\n",
    "#likehood vanilla cookie of bowl 1.2: 1/2 = 50%"
   ]
  },
  {
   "cell_type": "code",
   "execution_count": 80,
   "metadata": {},
   "outputs": [],
   "source": [
    "prioris = [1/2, 1/2] \n",
    "likelihoods = [3/4, 1/2]"
   ]
  },
  {
   "cell_type": "code",
   "execution_count": 81,
   "metadata": {},
   "outputs": [
    {
     "data": {
      "text/plain": [
       "array([0.6, 0.4])"
      ]
     },
     "execution_count": 81,
     "metadata": {},
     "output_type": "execute_result"
    }
   ],
   "source": [
    "def bayes(prioris, likelihoods):\n",
    "    \n",
    "    marginal = sum(np.multiply(prioris, likelihoods))\n",
    "    numerator = np.multiply(prioris, likelihoods)\n",
    "    posteriori = np.divide(numerator, marginal)\n",
    "    return posteriori\n",
    "\n",
    "bayes(prioris, likelihoods)"
   ]
  },
  {
   "cell_type": "markdown",
   "metadata": {},
   "source": [
    "###### The probability that it si a vanilla from Bowl 1 is 60%."
   ]
  },
  {
   "cell_type": "markdown",
   "metadata": {},
   "source": [
    "What is the probability that it came from Bowl 2?"
   ]
  },
  {
   "cell_type": "markdown",
   "metadata": {},
   "source": [
    "###### The probability that it si a vanilla from Bowl 1 is 40%."
   ]
  },
  {
   "cell_type": "markdown",
   "metadata": {},
   "source": [
    "What if the cookie you had picked was chocolate? What are the probabilities that the chocolate cookie came from Bowl 1 and Bowl 2 respectively?"
   ]
  },
  {
   "cell_type": "code",
   "execution_count": 10,
   "metadata": {},
   "outputs": [],
   "source": [
    "#Prior probability that the chocolate cookie came from Bowl 1 or Bowl 2\n",
    "#Prior probability of Bowl 1: 1/2 = 50%\n",
    "#Prior Probability of Bowl 2: 1/2 = 50%\n",
    "\n",
    "#Likelihoods, probability that it is  chocolate cookie if it came from each bowl\n",
    "#Likehood vanilla cookie of Bowl 1: 1/4 = 25%\n",
    "#likehood vanilla cookie of bowl 2: 1/2 = 50%"
   ]
  },
  {
   "cell_type": "code",
   "execution_count": 82,
   "metadata": {},
   "outputs": [],
   "source": [
    "prioris = [1/2, 1/2] \n",
    "likelihoods = [1/4, 1/2]"
   ]
  },
  {
   "cell_type": "code",
   "execution_count": 83,
   "metadata": {},
   "outputs": [
    {
     "data": {
      "text/plain": [
       "array([0.33333333, 0.66666667])"
      ]
     },
     "execution_count": 83,
     "metadata": {},
     "output_type": "execute_result"
    }
   ],
   "source": [
    "def bayes(prioris, likelihoods):\n",
    "    \n",
    "    marginal = sum(np.multiply(prioris, likelihoods))\n",
    "    numerator = np.multiply(prioris, likelihoods)\n",
    "    posteriori = np.divide(numerator, marginal)\n",
    "    return posteriori\n",
    "\n",
    "bayes(priors, likelihoods)"
   ]
  },
  {
   "cell_type": "markdown",
   "metadata": {},
   "source": [
    "###### The probability that it is a chocolate from Bowl 1 is 33.33%.\n",
    "\n",
    "###### The probability that it is a chocolate from Bowl 2 is 66.66%."
   ]
  },
  {
   "cell_type": "markdown",
   "metadata": {},
   "source": [
    "## 2. Candy Problem\n",
    "\n",
    "Suppose you have two bags of candies:\n",
    "\n",
    "- In Bag 1, the mix of colors is:\n",
    "    - Brown - 30%\n",
    "    - Yellow - 20%\n",
    "    - Red - 20%\n",
    "    - Green - 10%\n",
    "    - Orange - 10%\n",
    "    - Tan - 10%\n",
    "    \n",
    "- In Bag 2, the mix of colors is:\n",
    "    - Blue - 24%\n",
    "    - Green - 20%\n",
    "    - Orange - 16%\n",
    "    - Yellow - 14%\n",
    "    - Red - 13%\n",
    "    - Brown - 13%\n",
    "    \n",
    "Not knowing which bag is which, you randomly draw one candy from each bag. One is yellow and one is green. What is the probability that the yellow one came from the Bag 1?\n",
    "\n",
    "*Hint: For the likelihoods, you will need to multiply the probabilities of drawing yellow from one bag and green from the other bag and vice versa.*"
   ]
  },
  {
   "cell_type": "code",
   "execution_count": 22,
   "metadata": {},
   "outputs": [],
   "source": [
    "#Prior probability that the yellow candy came from Bag 1 or Bag 2 \n",
    "#Prior probability of Bag 1: 1/2 = 50%\n",
    "#Prior Probability of Bag 2: 1/2 = 50%\n",
    "\n",
    "#Likelihoods, probability that you draw a yellow candy from one bag and a green candy from another bag\n",
    "#Likehood yellow candy of Bag 1: 1/5 = 20%\n",
    "#likehood green candy of Bag 1: 1/10 = 10%\n",
    "#Likehood yellow candy of Bag 2: 1/7.14 = 14%\n",
    "#likehood green candy of Bag 2: 1/5 = 20%"
   ]
  },
  {
   "cell_type": "code",
   "execution_count": 84,
   "metadata": {},
   "outputs": [],
   "source": [
    "prioris = [1/2,1/2]\n",
    "likelihoods = [0.2*0.2,0.14*0.1]"
   ]
  },
  {
   "cell_type": "code",
   "execution_count": 85,
   "metadata": {},
   "outputs": [
    {
     "data": {
      "text/plain": [
       "array([0.74074074, 0.25925926])"
      ]
     },
     "execution_count": 85,
     "metadata": {},
     "output_type": "execute_result"
    }
   ],
   "source": [
    "def bayes(prioris, likelihoods):\n",
    "    \n",
    "    marginal = sum(np.multiply(prioris, likelihoods))\n",
    "    numerator = np.multiply(prioris, likelihoods)\n",
    "    posteriori = np.divide(numerator, marginal)\n",
    "    return posteriori\n",
    "\n",
    "bayes(prioris, likelihoods)"
   ]
  },
  {
   "cell_type": "markdown",
   "metadata": {},
   "source": [
    "###### The probability that it is a yellow candy from Bag 1 is 74.07%."
   ]
  },
  {
   "cell_type": "markdown",
   "metadata": {},
   "source": [
    "What is the probability that the yellow candy came from Bag 2?"
   ]
  },
  {
   "cell_type": "markdown",
   "metadata": {},
   "source": [
    "###### The probability that it is a yellow candy from Bag 2 is 25.92%."
   ]
  },
  {
   "cell_type": "markdown",
   "metadata": {},
   "source": [
    "What are the probabilities that the green one came from Bag 1 and Bag 2 respectively?"
   ]
  },
  {
   "cell_type": "code",
   "execution_count": 34,
   "metadata": {},
   "outputs": [],
   "source": [
    "#Prior probability that the green candy came from Bag 1 or Bag 2 \n",
    "#Prior probability of Bag 1: 1/2 = 50%\n",
    "#Prior Probability of Bag 2: 1/2 = 50%\n",
    "\n",
    "#Likelihoods, probability that you draw a green candy from one bag and a yellow candy from another bag\n",
    "#Likehood green candy of Bag 1: 1/10 = 10%\n",
    "#likehood yellow candy of Bag 1: 1/5 = 20%\n",
    "#Likehood green candy of Bag 2: 1/5 = 20%\n",
    "#likehood yellow candy of Bag 2: 1/7.14 = 14%"
   ]
  },
  {
   "cell_type": "code",
   "execution_count": 86,
   "metadata": {},
   "outputs": [],
   "source": [
    "prioris = [1/2,1/2]\n",
    "likelihoods = [0.2*0.2,0.14*0.1]"
   ]
  },
  {
   "cell_type": "code",
   "execution_count": 87,
   "metadata": {},
   "outputs": [
    {
     "data": {
      "text/plain": [
       "array([0.74074074, 0.25925926])"
      ]
     },
     "execution_count": 87,
     "metadata": {},
     "output_type": "execute_result"
    }
   ],
   "source": [
    "def bayes(prioris, likelihoods):\n",
    "    \n",
    "    marginal = sum(np.multiply(prioris, likelihoods))\n",
    "    numerator = np.multiply(prioris, likelihoods)\n",
    "    posteriori = np.divide(numerator, marginal)\n",
    "    return posteriori\n",
    "\n",
    "bayes(prioris, likelihoods)"
   ]
  },
  {
   "cell_type": "markdown",
   "metadata": {},
   "source": [
    "###### The probability that it is a green candy from Bag 1 is 25.92%.\n",
    "\n",
    "###### The probability that it is a green candy from Bag 2 is 74.07%."
   ]
  },
  {
   "cell_type": "code",
   "execution_count": 88,
   "metadata": {},
   "outputs": [],
   "source": [
    "bag_2, bag_1 = bayes(prioris, likelihoods)"
   ]
  },
  {
   "cell_type": "code",
   "execution_count": 69,
   "metadata": {},
   "outputs": [
    {
     "name": "stdout",
     "output_type": "stream",
     "text": [
      "Probability that it is a green candy from Bag 1: 25.93%\n"
     ]
    }
   ],
   "source": [
    "print(f'Probability that it is a green candy from Bag 1: {(round(bag_1 * 100,2))}%')"
   ]
  },
  {
   "cell_type": "code",
   "execution_count": 70,
   "metadata": {},
   "outputs": [
    {
     "name": "stdout",
     "output_type": "stream",
     "text": [
      "Probability that it is a green candy from Bag 2: 74.07%\n"
     ]
    }
   ],
   "source": [
    "print(f'Probability that it is a green candy from Bag 2: {(round(bag_2 * 100,2))}%')"
   ]
  },
  {
   "cell_type": "markdown",
   "metadata": {},
   "source": [
    "## 3. Monty Hall Problem\n",
    "\n",
    "Suppose you are a contestant on the popular game show *Let's Make a Deal*. The host of the show (Monty Hall) presents you with three doors - Door A, Door B, and Door C. He tells you that there is a sports car behind one of them and if you choose the correct one, you win the car!\n",
    "\n",
    "You select Door A, but then Monty makes things a little more interesting. He opens Door B to reveal that there is no sports car behind it and asks you if you would like to stick with your choice of Door A or switch your choice to Door C. Given this new information, what are the probabilities of you winning the car if you stick with Door A versus if you switch to Door C?"
   ]
  },
  {
   "cell_type": "code",
   "execution_count": null,
   "metadata": {},
   "outputs": [],
   "source": [
    "#At the beginning of the game the probabiity o winning is distribuited by 1/3 (33.3%) for  each door.\n",
    "#After the host opened door B the probality of sticking with it is 0%. \n",
    "#The previos probability of door B is applied to door C which probability is now 2/3 (66.6%). "
   ]
  },
  {
   "cell_type": "code",
   "execution_count": 48,
   "metadata": {},
   "outputs": [],
   "source": [
    "prioris = [1/3,1/3,1/3]\n",
    "likelihoods = [1/3,0,2/3]"
   ]
  },
  {
   "cell_type": "code",
   "execution_count": 98,
   "metadata": {},
   "outputs": [
    {
     "data": {
      "text/plain": [
       "array([0.33333333, 0.        , 0.66666667])"
      ]
     },
     "execution_count": 98,
     "metadata": {},
     "output_type": "execute_result"
    }
   ],
   "source": [
    "def bayes(prioris, likelihoods):\n",
    "    \n",
    "    marginal = sum(np.multiply(prioris, likelihoods))\n",
    "    numerator = np.multiply(prioris, likelihoods)\n",
    "    posteriori = np.divide(numerator, marginal)\n",
    "    return posteriori\n",
    "\n",
    "bayes(prioris, likelihoods)"
   ]
  },
  {
   "cell_type": "code",
   "execution_count": 99,
   "metadata": {},
   "outputs": [],
   "source": [
    "door_a, door_b, door_c = bayes(prioris, likelihoods)"
   ]
  },
  {
   "cell_type": "code",
   "execution_count": 100,
   "metadata": {},
   "outputs": [
    {
     "name": "stdout",
     "output_type": "stream",
     "text": [
      "Probability of winning a car by sticking with Door A: 33.33%\n"
     ]
    }
   ],
   "source": [
    "print(f'Probability of winning a car by sticking with Door A: {(round(door_a * 100,2))}%')"
   ]
  },
  {
   "cell_type": "code",
   "execution_count": 101,
   "metadata": {},
   "outputs": [
    {
     "name": "stdout",
     "output_type": "stream",
     "text": [
      "Probability of winning a car by sticking with Door C: 66.67%\n"
     ]
    }
   ],
   "source": [
    "print(f'Probability of winning a car by sticking with Door C: {(round(door_c * 100,2))}%')"
   ]
  },
  {
   "cell_type": "markdown",
   "metadata": {},
   "source": [
    "## 4. Bayesian Analysis \n",
    "\n",
    "Suppose you work for a landscaping company, and they want to advertise their service online. They create an ad and sit back waiting for the money to roll in. On the first day, the ad sends 100 visitors to the site and 14 of them sign up for landscaping services. Create a generative model to come up with the posterior distribution and produce a visualization of what the posterior distribution would look like given the observed data."
   ]
  },
  {
   "cell_type": "code",
   "execution_count": 4,
   "metadata": {},
   "outputs": [],
   "source": [
    "visitors = 100\n",
    "buyers = 14\n",
    "random_number = 100000"
   ]
  },
  {
   "cell_type": "code",
   "execution_count": 33,
   "metadata": {},
   "outputs": [],
   "source": [
    "priori = pd.Series(np.random.uniform(0, 1, size=random_number))"
   ]
  },
  {
   "cell_type": "code",
   "execution_count": 34,
   "metadata": {},
   "outputs": [
    {
     "data": {
      "text/plain": [
       "0    0.194168\n",
       "1    0.335985\n",
       "2    0.350845\n",
       "3    0.510603\n",
       "4    0.467974\n",
       "5    0.211112\n",
       "6    0.611502\n",
       "7    0.881607\n",
       "8    0.120748\n",
       "9    0.735051\n",
       "dtype: float64"
      ]
     },
     "execution_count": 34,
     "metadata": {},
     "output_type": "execute_result"
    }
   ],
   "source": [
    "priori[:10]\n"
   ]
  },
  {
   "cell_type": "markdown",
   "metadata": {},
   "source": [
    "Produce a set of descriptive statistics for the posterior distribution."
   ]
  },
  {
   "cell_type": "code",
   "execution_count": 42,
   "metadata": {},
   "outputs": [],
   "source": [
    "def generative_model(param):\n",
    "    result = np.random.binomial(visitors, param)\n",
    "    return result\n"
   ]
  },
  {
   "cell_type": "code",
   "execution_count": 43,
   "metadata": {},
   "outputs": [
    {
     "data": {
      "text/plain": [
       "19"
      ]
     },
     "execution_count": 43,
     "metadata": {},
     "output_type": "execute_result"
    }
   ],
   "source": [
    "generative_model(0.2)"
   ]
  },
  {
   "cell_type": "code",
   "execution_count": 44,
   "metadata": {},
   "outputs": [
    {
     "data": {
      "text/plain": [
       "31"
      ]
     },
     "execution_count": 44,
     "metadata": {},
     "output_type": "execute_result"
    }
   ],
   "source": [
    "generative_model(0.3)"
   ]
  },
  {
   "cell_type": "code",
   "execution_count": 37,
   "metadata": {},
   "outputs": [],
   "source": [
    "buyers_list = list()\n",
    "\n",
    "for p in prior:\n",
    "    buyers_list.append(generative_model(p))\n"
   ]
  },
  {
   "cell_type": "code",
   "execution_count": 40,
   "metadata": {},
   "outputs": [
    {
     "data": {
      "text/plain": [
       "[29, 61, 90, 3, 100, 99, 83, 52, 48, 2]"
      ]
     },
     "execution_count": 40,
     "metadata": {},
     "output_type": "execute_result"
    }
   ],
   "source": [
    "buyers_list[:10]"
   ]
  },
  {
   "cell_type": "code",
   "execution_count": 51,
   "metadata": {},
   "outputs": [
    {
     "data": {
      "text/plain": [
       "<AxesSubplot:>"
      ]
     },
     "execution_count": 51,
     "metadata": {},
     "output_type": "execute_result"
    },
    {
     "data": {
      "image/png": "[encoded data removed]",
      "text/plain": [
       "<Figure size 432x288 with 1 Axes>"
      ]
     },
     "metadata": {
      "needs_background": "light"
     },
     "output_type": "display_data"
    }
   ],
   "source": [
    "posteriori = prior[list(map(lambda i: i == buyers, buyers_list))]\n",
    "posteriori.hist()"
   ]
  },
  {
   "cell_type": "code",
   "execution_count": 52,
   "metadata": {},
   "outputs": [
    {
     "data": {
      "text/plain": [
       "count    1000.000000\n",
       "mean        0.146737\n",
       "std         0.035711\n",
       "min         0.048204\n",
       "25%         0.120956\n",
       "50%         0.144663\n",
       "75%         0.169921\n",
       "max         0.287338\n",
       "dtype: float64"
      ]
     },
     "execution_count": 52,
     "metadata": {},
     "output_type": "execute_result"
    }
   ],
   "source": [
    "posteriori.describe()"
   ]
  },
  {
   "cell_type": "markdown",
   "metadata": {},
   "source": [
    "What is the 90% credible interval range?"
   ]
  },
  {
   "cell_type": "code",
   "execution_count": 53,
   "metadata": {},
   "outputs": [
    {
     "name": "stdout",
     "output_type": "stream",
     "text": [
      "\"Left\" 95% Confidence Interval\n",
      "(0, 0.20829888645186467)\n"
     ]
    }
   ],
   "source": [
    "print(f'\"Left\" 95% Confidence Interval\\n(0, {posteriori.quantile(0.95)})')"
   ]
  },
  {
   "cell_type": "code",
   "execution_count": 54,
   "metadata": {},
   "outputs": [
    {
     "name": "stdout",
     "output_type": "stream",
     "text": [
      "\"Right\" 95% Confidence Interval\n",
      "(0, 0.09507928975512868)\n"
     ]
    }
   ],
   "source": [
    "print(f'\"Right\" 95% Confidence Interval\\n(0, {posteriori.quantile(0.05)})')"
   ]
  },
  {
   "cell_type": "code",
   "execution_count": 55,
   "metadata": {},
   "outputs": [
    {
     "name": "stdout",
     "output_type": "stream",
     "text": [
      "\"Center\" 95% Confidence Interval\n",
      "(0, 0.08500119694737146, 0.2211757882904555)\n"
     ]
    }
   ],
   "source": [
    "print(f'\"Center\" 95% Confidence Interval\\n(0, {posteriori.quantile(0.025)}, {posteriori.quantile(0.975)})')"
   ]
  },
  {
   "cell_type": "markdown",
   "metadata": {},
   "source": [
    "What is the Maximum Likelihood Estimate?"
   ]
  },
  {
   "cell_type": "code",
   "execution_count": 56,
   "metadata": {},
   "outputs": [],
   "source": [
    "rounded = posteriori.round(2)\n",
    "mode = rounded.mode()[0]\n",
    "probability = list(rounded).count(mode)/len(rounded)"
   ]
  },
  {
   "cell_type": "code",
   "execution_count": 50,
   "metadata": {},
   "outputs": [
    {
     "name": "stdout",
     "output_type": "stream",
     "text": [
      " The Maximum Likelihood Estimate: Mode: 0.15%, | Probability: 0.123%\n"
     ]
    }
   ],
   "source": [
    "print(f' The Maximum Likelihood Estimate: Mode: {mode}%, | Probability: {probability}%')"
   ]
  }
 ],
 "metadata": {
  "kernelspec": {
   "display_name": "Python 3 (ipykernel)",
   "language": "python",
   "name": "python3"
  },
  "language_info": {
   "codemirror_mode": {
    "name": "ipython",
    "version": 3
   },
   "file_extension": ".py",
   "mimetype": "text/x-python",
   "name": "python",
   "nbconvert_exporter": "python",
   "pygments_lexer": "ipython3",
   "version": "3.9.12"
  }
 },
 "nbformat": 4,
 "nbformat_minor": 4
}
