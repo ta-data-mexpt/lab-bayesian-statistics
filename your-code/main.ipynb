{
  "cells": [
    {
      "cell_type": "markdown",
      "metadata": {
        "id": "wSGEHDX3XcEX"
      },
      "source": [
        "# Intro to Bayesian Statistics Lab\n",
        "\n",
        "Complete the following set of exercises to solidify your knowledge of Bayesian statistics and Bayesian data analysis."
      ]
    },
    {
      "cell_type": "code",
      "execution_count": null,
      "metadata": {
        "id": "rFCj-LzoXcEb"
      },
      "outputs": [],
      "source": [
        "import pandas as pd\n",
        "import numpy as np\n",
        "import matplotlib.pyplot as plt"
      ]
    },
    {
      "cell_type": "markdown",
      "metadata": {
        "id": "687MuMwbXcEc"
      },
      "source": [
        "## 1. Cookie Problem\n",
        "\n",
        "Suppose we have two bowls of cookies. Bowl 1 contains 30 vanilla cookies and 10 chocolate cookies. Bowl 2 contains 20 of each. You randomly pick one cookie out of one of the bowls, and it is vanilla. Use Bayes Theorem to calculate the probability that the vanilla cookie you picked came from Bowl 1?"
      ]
    },
    {
      "cell_type": "code",
      "execution_count": null,
      "metadata": {
        "id": "oA0j2-uZXcEd",
        "colab": {
          "base_uri": "https://localhost:8080/",
          "height": 200
        },
        "outputId": "2ddbc93c-9020-479c-ea7b-be31006b0dae"
      },
      "outputs": [
        {
          "output_type": "error",
          "ename": "NameError",
          "evalue": "ignored",
          "traceback": [
            "\u001b[0;31m---------------------------------------------------------------------------\u001b[0m",
            "\u001b[0;31mNameError\u001b[0m                                 Traceback (most recent call last)",
            "\u001b[0;32m<ipython-input-2-fcc8e82486b6>\u001b[0m in \u001b[0;36m<module>\u001b[0;34m()\u001b[0m\n\u001b[1;32m     17\u001b[0m \u001b[0mprob_1\u001b[0m \u001b[0;34m=\u001b[0m \u001b[0mbayes\u001b[0m\u001b[0;34m(\u001b[0m\u001b[0mpriors\u001b[0m\u001b[0;34m,\u001b[0m \u001b[0mlike_vanilla\u001b[0m\u001b[0;34m)\u001b[0m\u001b[0;34m\u001b[0m\u001b[0;34m\u001b[0m\u001b[0m\n\u001b[1;32m     18\u001b[0m \u001b[0;34m\u001b[0m\u001b[0m\n\u001b[0;32m---> 19\u001b[0;31m \u001b[0mprint\u001b[0m\u001b[0;34m(\u001b[0m\u001b[0;34m'The proability of picking a vanilla cookie from bowl_1 is'\u001b[0m\u001b[0;34m,\u001b[0m \u001b[0mprob\u001b[0m\u001b[0;34m[\u001b[0m\u001b[0;36m0\u001b[0m\u001b[0;34m]\u001b[0m\u001b[0;34m*\u001b[0m\u001b[0;36m100\u001b[0m\u001b[0;34m,\u001b[0m \u001b[0;34m'%'\u001b[0m\u001b[0;34m)\u001b[0m\u001b[0;34m\u001b[0m\u001b[0;34m\u001b[0m\u001b[0m\n\u001b[0m",
            "\u001b[0;31mNameError\u001b[0m: name 'prob' is not defined"
          ]
        }
      ],
      "source": [
        "# P(bowl_1|Vanilla) = ? \n",
        "\n",
        "#  P(A|B) = P(B|A) P(A) / P(B)\n",
        "\n",
        "# Priors y likelihoods: \n",
        "priors = [1/2, 1/2]        # bowl_1 and bowl_2 probabilities\n",
        "like_vanilla = [3/4, 1/2]  # vanilla cookies: bowl_1 = 30/40 // bowl_2 = 20/20 \n",
        "\n",
        "# Bayes theorem\n",
        "def bayes (priors, like_vanilla):\n",
        "  nums = np.multiply(priors, like_vanilla)\n",
        "  marginal = sum(nums)\n",
        "  posterior = np.divide(nums, marginal)\n",
        "  return posterior\n",
        "\n",
        "# Results\n",
        "prob_1 = bayes(priors, like_vanilla)\n",
        "\n",
        "print('The proability of picking a vanilla cookie from bowl_1 is', prob[0]*100, '%') "
      ]
    },
    {
      "cell_type": "markdown",
      "metadata": {
        "id": "pxHOa_JkXcEd"
      },
      "source": [
        "What is the probability that it came from Bowl 2?"
      ]
    },
    {
      "cell_type": "code",
      "execution_count": null,
      "metadata": {
        "id": "WVepWmZ8XcEd"
      },
      "outputs": [],
      "source": [
        "#  P(A|B) = P(B|A) P(A) / P(B)\n",
        "\n",
        "# Priors y likelihoods: \n",
        "Priors = [1/2, 1/2]        \n",
        "like_vanilla = [1/2, 3/4]  \n",
        "\n",
        "def bayes (priors, like_vanilla):\n",
        "  nums = np.multiply(priors, like_vanilla)\n",
        "  marginal = sum(nums)\n",
        "  posterior = np.divide(nums, marginal)\n",
        "  return posterior\n",
        "\n",
        "prob_2 = bayes(riors, like_vanilla)\n",
        "print('The probability of picking a vanilla cookie from the bowl_2 is', prob_2[0*100],'%')\n"
      ]
    },
    {
      "cell_type": "markdown",
      "metadata": {
        "id": "4BYHaGgKXcEe"
      },
      "source": [
        "What if the cookie you had picked was chocolate? What are the probabilities that the chocolate cookie came from Bowl 1 and Bowl 2 respectively?"
      ]
    },
    {
      "cell_type": "code",
      "execution_count": null,
      "metadata": {
        "id": "GdjNGwOKXcEf",
        "colab": {
          "base_uri": "https://localhost:8080/"
        },
        "outputId": "dbb92913-f095-4230-e972-0ec0a2ce9a8b"
      },
      "outputs": [
        {
          "output_type": "stream",
          "name": "stdout",
          "text": [
            "The probability of picking a chocolate cookie from the bowl_1 is 33.33333333333333 %\n",
            "Meanwhile the proability of picking it from bowl_2 is 66.66666666666666 %\n"
          ]
        }
      ],
      "source": [
        "#  P(A|B) = P(B|A) P(A) / P(B)\n",
        "\n",
        "# Priors y likelihoods: \n",
        "Priors = [1/2, 1/2]        \n",
        "like_chocolate = [1/4, 1/2]\n",
        "\n",
        "prob_3 = bayes(Priors, like_chocolate)\n",
        "print('The probability of picking a chocolate cookie from the bowl_1 is', prob_3[0]*100,'%')\n",
        "print('Meanwhile the proability of picking it from bowl_2 is', prob_3[1]*100,'%' )"
      ]
    },
    {
      "cell_type": "markdown",
      "metadata": {
        "id": "w5VjRUIuXcEf"
      },
      "source": [
        "## 2. Candy Problem\n",
        "\n",
        "Suppose you have two bags of candies:\n",
        "\n",
        "- In Bag 1, the mix of colors is:\n",
        "    - Brown - 30%\n",
        "    - Yellow - 20%\n",
        "    - Red - 20%\n",
        "    - Green - 10%\n",
        "    - Orange - 10%\n",
        "    - Tan - 10%\n",
        "    \n",
        "- In Bag 2, the mix of colors is:\n",
        "    - Blue - 24%\n",
        "    - Green - 20%\n",
        "    - Orange - 16%\n",
        "    - Yellow - 14%\n",
        "    - Red - 13%\n",
        "    - Brown - 13%\n",
        "    \n",
        "Not knowing which bag is which, you randomly draw one candy from each bag. One is yellow and one is green. What is the probability that the yellow one came from the Bag 1?\n",
        "\n",
        "*Hint: For the likelihoods, you will need to multiply the probabilities of drawing yellow from one bag and green from the other bag and vice versa.*"
      ]
    },
    {
      "cell_type": "code",
      "execution_count": null,
      "metadata": {
        "id": "WZ8Q-YtxXcEg",
        "colab": {
          "base_uri": "https://localhost:8080/"
        },
        "outputId": "8d5f6bd9-c8dc-49bf-8279-72055d9c6117"
      },
      "outputs": [
        {
          "output_type": "stream",
          "name": "stdout",
          "text": [
            "The probability of drawing a yellow candy from one bag and a green one from the other bag is: 74.07407407407408 %\n"
          ]
        }
      ],
      "source": [
        "# P(yellow | bag1)\n",
        "# P(A|B) = P(B|A) P(A) / P(B)\n",
        "\n",
        "# Priors y likelihoods: \n",
        "Priors = [0.5, 0.5]                    # Probability of each bag       \n",
        "like_ = [(0.20 * 0.20), (0.10 * 0.14)] # multiply the probabilities of drawing yellow from one bag and green from the other bag and vice versa.\n",
        "\n",
        "prob_3 = bayes(Priors, like_)\n",
        "print('The probability of drawing a yellow candy from one bag and a green one from the other bag is:', prob_3[0]*100, '%')\n",
        "\n"
      ]
    },
    {
      "cell_type": "markdown",
      "metadata": {
        "id": "msklTlxrXcEg"
      },
      "source": [
        "What is the probability that the yellow candy came from Bag 2?"
      ]
    },
    {
      "cell_type": "code",
      "execution_count": null,
      "metadata": {
        "id": "Mo3CaaHiXcEh",
        "colab": {
          "base_uri": "https://localhost:8080/"
        },
        "outputId": "e4c1a35c-f7c0-498b-c0c7-fbff4121505d"
      },
      "outputs": [
        {
          "output_type": "stream",
          "name": "stdout",
          "text": [
            "The probability of drawing a yellow candy from bag 2 and a green one from bag 1 is: 25.925925925925924 %\n"
          ]
        }
      ],
      "source": [
        "print('The probability of drawing a yellow candy from bag 2 and a green one from bag 1 is:', prob_3[1]*100, '%')\n"
      ]
    },
    {
      "cell_type": "markdown",
      "metadata": {
        "id": "EJmd_TJ2XcEh"
      },
      "source": [
        "What are the probabilities that the green one came from Bag 1 and Bag 2 respectively?"
      ]
    },
    {
      "cell_type": "code",
      "execution_count": null,
      "metadata": {
        "id": "E34j9HH2XcEi",
        "colab": {
          "base_uri": "https://localhost:8080/"
        },
        "outputId": "178d4539-c53b-4856-989b-99b72ce15879"
      },
      "outputs": [
        {
          "output_type": "stream",
          "name": "stdout",
          "text": [
            "The probability of drawing a green candy from bag 1: 74.07407407407408 %\n",
            "The probability of drawing a green candy from **bag 2**: 74.07407407407408 %\n"
          ]
        }
      ],
      "source": [
        "print('The probability of drawing a green candy from bag 1:', prob_3[0]*100, '%')\n",
        "print('The probability of drawing a green candy from bag 2:', prob_3[1]*100, '%')\n"
      ]
    },
    {
      "cell_type": "markdown",
      "metadata": {
        "id": "fwTR3DgDXcEi"
      },
      "source": [
        "## 3. Monty Hall Problem\n",
        "\n",
        "Suppose you are a contestant on the popular game show *Let's Make a Deal*. The host of the show (Monty Hall) presents you with three doors - Door A, Door B, and Door C. He tells you that there is a sports car behind one of them and if you choose the correct one, you win the car!\n",
        "\n",
        "You select Door A, but then Monty makes things a little more interesting. He opens Door B to reveal that there is no sports car behind it and asks you if you would like to stick with your choice of Door A or switch your choice to Door C. Given this new information, what are the probabilities of you winning the car if you stick with Door A versus if you switch to Door C?"
      ]
    },
    {
      "cell_type": "code",
      "execution_count": null,
      "metadata": {
        "id": "hw65tjAHXcEi",
        "colab": {
          "base_uri": "https://localhost:8080/"
        },
        "outputId": "f4e247f6-d8f1-47b6-ea3e-3c2a3ef1ad7f"
      },
      "outputs": [
        {
          "output_type": "stream",
          "name": "stdout",
          "text": [
            "Given there is no car in B, the probability of A is: 0.3333333333333333\n",
            "Given there is no car in B, the probability of C is: 0.6666666666666666\n"
          ]
        }
      ],
      "source": [
        "prior = [1/3, 1/3, 1/3]\n",
        "likelihood = [1/2, 0, 1]\n",
        "\n",
        "prob_B_A = 1/2 \n",
        "prob_C_A = 1/2\n",
        "prob_A= 1/3\n",
        "prob_C= 1/3\n",
        "prob_B_C = 1\n",
        "prob_B = (prob_B_A * prob_A) + (prob_B_C * prob_C)\n",
        "prob_A_B = (prob_B_A * prob_A) / prob_B\n",
        "\n",
        "print('Given there is no car in B, the probability of A is:', prob_A_B)\n",
        "\n",
        "prob_C_B = (prob_B_C * prob_C) / prob_B\n",
        "print('Given there is no car in B, the probability of C is:', prob_C_B)\n"
      ]
    },
    {
      "cell_type": "markdown",
      "metadata": {
        "id": "J8sV3CmzXcEj"
      },
      "source": [
        "## 4. Bayesian Analysis \n",
        "\n",
        "Suppose you work for a landscaping company, and they want to advertise their service online. They create an ad and sit back waiting for the money to roll in. On the first day, the ad sends 100 visitors to the site and 14 of them sign up for landscaping services. Create a generative model to come up with the posterior distribution and produce a visualization of what the posterior distribution would look like given the observed data."
      ]
    },
    {
      "cell_type": "code",
      "execution_count": null,
      "metadata": {
        "id": "I5Zo2ih6XcEj"
      },
      "outputs": [],
      "source": [
        "# 1) Random uniform sample (100,000 random draws of numbers between 0 and 1)\n",
        "prior_sample = pd.Series(np.random.uniform(0, 1, size= 100_000))"
      ]
    },
    {
      "cell_type": "code",
      "source": [
        "# 2) Modelo\n",
        "def generative_model (candidato_porcentaje_compra):\n",
        "  clientes = np.random.binomial(100, candidato_porcentaje_compra)\n",
        "  return clientes"
      ],
      "metadata": {
        "id": "QYLSzlAmEamA"
      },
      "execution_count": null,
      "outputs": []
    },
    {
      "cell_type": "code",
      "source": [
        "# 3) \n",
        "sim_data = list()\n",
        "\n",
        "\n",
        "for prob in prior_sample:\n",
        "  sim_data.append(generative_model(prob))\n",
        "\n",
        "posteriori = prior_sample[map(lambda x:x==14, sim_data)]"
      ],
      "metadata": {
        "id": "l-zPK-0ZFu4o"
      },
      "execution_count": null,
      "outputs": []
    },
    {
      "cell_type": "code",
      "source": [
        "# 4) Distribution of probabilities that match 14 buyers \n",
        "plt.style.use('ggplot')\n",
        "posteriori.hist()\n",
        "plt.show()"
      ],
      "metadata": {
        "colab": {
          "base_uri": "https://localhost:8080/",
          "height": 265
        },
        "id": "OluPMJOFHgWg",
        "outputId": "b7166ce9-d97c-47ba-bdd6-71158ab293e4"
      },
      "execution_count": null,
      "outputs": [
        {
          "output_type": "display_data",
          "data": {
            "image/png": "[encoded data removed]",
            "text/plain": [
              "<Figure size 432x288 with 1 Axes>"
            ]
          },
          "metadata": {}
        }
      ]
    },
    {
      "cell_type": "markdown",
      "metadata": {
        "id": "lL8rYoRWXcEj"
      },
      "source": [
        "Produce a set of descriptive statistics for the posterior distribution."
      ]
    },
    {
      "cell_type": "code",
      "execution_count": null,
      "metadata": {
        "id": "mzT_pOrKXcEk",
        "colab": {
          "base_uri": "https://localhost:8080/"
        },
        "outputId": "771c1afd-cacf-4d00-b8f7-15a7d9d3756a"
      },
      "outputs": [
        {
          "output_type": "execute_result",
          "data": {
            "text/plain": [
              "count    991.000000\n",
              "mean       0.146865\n",
              "std        0.035414\n",
              "min        0.059423\n",
              "25%        0.122011\n",
              "50%        0.145582\n",
              "75%        0.168548\n",
              "max        0.270079\n",
              "dtype: float64"
            ]
          },
          "metadata": {},
          "execution_count": 48
        }
      ],
      "source": [
        "posteriori.describe()"
      ]
    },
    {
      "cell_type": "markdown",
      "metadata": {
        "id": "Ah88kToCXcEk"
      },
      "source": [
        "What is the 90% credible interval range?"
      ]
    },
    {
      "cell_type": "code",
      "execution_count": null,
      "metadata": {
        "id": "lJkxuAstXcEk",
        "colab": {
          "base_uri": "https://localhost:8080/"
        },
        "outputId": "13948db6-1f50-470b-9fc2-0066ef89e5c3"
      },
      "outputs": [
        {
          "output_type": "stream",
          "name": "stdout",
          "text": [
            "0.09326207094002442 , 0.20922161220319035\n"
          ]
        }
      ],
      "source": [
        "# Between 0.5 and 0.95 of the data\n",
        "print(posteriori.quantile(.05),',', posteriori.quantile(.95))"
      ]
    },
    {
      "cell_type": "markdown",
      "metadata": {
        "id": "Vzael6OvXcEk"
      },
      "source": [
        "What is the Maximum Likelihood Estimate?"
      ]
    },
    {
      "cell_type": "code",
      "execution_count": null,
      "metadata": {
        "id": "6FP04_3sXcEk",
        "colab": {
          "base_uri": "https://localhost:8080/"
        },
        "outputId": "91fda811-dcc3-4f77-c3e5-b9b1f6ce08e8"
      },
      "outputs": [
        {
          "output_type": "stream",
          "name": "stdout",
          "text": [
            "Maximum Likelihood Estimate:  0.13 | 0.10797174571140263\n"
          ]
        }
      ],
      "source": [
        "# 1) Round to 2 decimals\n",
        "rounded = posteriori.round(2)\n",
        "\n",
        "# 2) Keep the mode, keep the first observation\n",
        "mode = rounded.mode()[0]\n",
        "\n",
        "# 3) Probability of finding the mode \n",
        "probability = list(rounded).count(mode)/len(rounded)\n",
        "\n",
        "# 4) Results\n",
        "print('Maximum Likelihood Estimate: ', mode, '|',probability)"
      ]
    },
    {
      "cell_type": "code",
      "source": [
        ""
      ],
      "metadata": {
        "id": "c9D3oqeDKa-8"
      },
      "execution_count": null,
      "outputs": []
    }
  ],
  "metadata": {
    "kernelspec": {
      "display_name": "Python 3",
      "language": "python",
      "name": "python3"
    },
    "language_info": {
      "codemirror_mode": {
        "name": "ipython",
        "version": 3
      },
      "file_extension": ".py",
      "mimetype": "text/x-python",
      "name": "python",
      "nbconvert_exporter": "python",
      "pygments_lexer": "ipython3",
      "version": "3.7.2"
    },
    "colab": {
      "name": "main.ipynb",
      "provenance": [],
      "collapsed_sections": []
    }
  },
  "nbformat": 4,
  "nbformat_minor": 0
}