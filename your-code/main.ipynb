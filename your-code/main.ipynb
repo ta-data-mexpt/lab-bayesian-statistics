{
 "cells": [
  {
   "cell_type": "markdown",
   "metadata": {},
   "source": [
    "# Intro to Bayesian Statistics Lab\n",
    "\n",
    "Complete the following set of exercises to solidify your knowledge of Bayesian statistics and Bayesian data analysis."
   ]
  },
  {
   "cell_type": "code",
   "execution_count": 33,
   "metadata": {},
   "outputs": [],
   "source": [
    "import pandas as pd\n",
    "import numpy as np\n",
    "import matplotlib.pyplot as plt"
   ]
  },
  {
   "cell_type": "markdown",
   "metadata": {},
   "source": [
    "## 1. Cookie Problem\n",
    "\n",
    "Suppose we have two bowls of cookies. Bowl 1 contains 30 vanilla cookies and 10 chocolate cookies. Bowl 2 contains 20 of each. You randomly pick one cookie out of one of the bowls, and it is vanilla. Use Bayes Theorem to calculate the probability that the vanilla cookie you picked came from Bowl 1?"
   ]
  },
  {
   "cell_type": "code",
   "execution_count": 49,
   "metadata": {},
   "outputs": [
    {
     "name": "stdout",
     "output_type": "stream",
     "text": [
      "p(Vainilla|Bowl1)= 0.6\n"
     ]
    }
   ],
   "source": [
    "\n",
    "#Probabilidad de que salga del bowl 1 = .75\n",
    "#probabilidad de que salga del bowl 2 = .5\n",
    "\n",
    "prob_vanilla_dado_bowl1 = (0.75*0.5)/ ( (0.75*0.5) + (0.5*0.5) )\n",
    "print(\"p(Vainilla|Bowl1)=\",prob_vanilla_dado_bowl1)\n"
   ]
  },
  {
   "cell_type": "markdown",
   "metadata": {},
   "source": [
    "What is the probability that it came from Bowl 2?"
   ]
  },
  {
   "cell_type": "code",
   "execution_count": 48,
   "metadata": {},
   "outputs": [
    {
     "name": "stdout",
     "output_type": "stream",
     "text": [
      "p(Vainilla|Bowl2)= 0.4\n"
     ]
    }
   ],
   "source": [
    "prob_vanilla_dado_bowl2 = (0.5*0.5)/ ( (0.5*0.5) + (0.75*0.5) )\n",
    "print(\"p(Vainilla|Bowl2)=\",prob_vanilla_dado_bowl2)"
   ]
  },
  {
   "cell_type": "markdown",
   "metadata": {},
   "source": [
    "What if the cookie you had picked was chocolate? What are the probabilities that the chocolate cookie came from Bowl 1 and Bowl 2 respectively?"
   ]
  },
  {
   "cell_type": "code",
   "execution_count": 50,
   "metadata": {},
   "outputs": [
    {
     "name": "stdout",
     "output_type": "stream",
     "text": [
      "p(Choc|Bowl1)= 0.3333333333333333\n",
      "p(Choc|Bowl2)= 0.6666666666666666\n"
     ]
    }
   ],
   "source": [
    "prob_chocolate_dado_bowl1 = (0.25*0.5)/ ( (0.25*0.5) + (0.5*0.5) )\n",
    "print(\"p(Choc|Bowl1)=\",prob_chocolate_dado_bowl1)\n",
    "prob_chocolate_dado_bowl2 = (0.5*0.5)/ ( (0.25*0.5) + (0.5*0.5) )\n",
    "print(\"p(Choc|Bowl2)=\",prob_chocolate_dado_bowl2)"
   ]
  },
  {
   "cell_type": "markdown",
   "metadata": {},
   "source": [
    "## 2. Candy Problem\n",
    "\n",
    "Suppose you have two bags of candies:\n",
    "\n",
    "- In Bag 1, the mix of colors is:\n",
    "    - Brown - 30%\n",
    "    - Yellow - 20%\n",
    "    - Red - 20%\n",
    "    - Green - 10%\n",
    "    - Orange - 10%\n",
    "    - Tan - 10%\n",
    "    \n",
    "- In Bag 2, the mix of colors is:\n",
    "    - Blue - 24%\n",
    "    - Green - 20%\n",
    "    - Orange - 16%\n",
    "    - Yellow - 14%\n",
    "    - Red - 13%\n",
    "    - Brown - 13%\n",
    "    \n",
    "Not knowing which bag is which, you randomly draw one candy from each bag. One is yellow and one is green. What is the probability that the yellow one came from the Bag 1?\n",
    "\n",
    "*Hint: For the likelihoods, you will need to multiply the probabilities of drawing yellow from one bag and green from the other bag and vice versa.*"
   ]
  },
  {
   "cell_type": "code",
   "execution_count": 14,
   "metadata": {},
   "outputs": [
    {
     "name": "stdout",
     "output_type": "stream",
     "text": [
      "p(b1|amarillo)= 0.11764705882352942\n"
     ]
    }
   ],
   "source": [
    "p_amarillo_b1=0.20\n",
    "p_b1=0.5\n",
    "p_amarillo=0.20*0.5+0.14*0.5\n",
    "p_verde_b2=0.20\n",
    "p_b1_amarillo=p_amarillo_b1*p_verde_b2*p_b1/p_amarillo\n",
    "print(\"p(b1|amarillo)=\",p_b1_amarillo)"
   ]
  },
  {
   "cell_type": "markdown",
   "metadata": {},
   "source": [
    "What is the probability that the yellow candy came from Bag 2?"
   ]
  },
  {
   "cell_type": "code",
   "execution_count": 13,
   "metadata": {},
   "outputs": [
    {
     "name": "stdout",
     "output_type": "stream",
     "text": [
      "p(b2|amarillo)= 0.0411764705882353\n"
     ]
    }
   ],
   "source": [
    "p_amarillo_b2=0.14\n",
    "p_b2=0.5\n",
    "p_amarillo=0.20*0.5+0.14*0.5\n",
    "p_verde_b2=0.10\n",
    "p_b2_amarillo=p_amarillo_b2*p_verde_b2*p_b2/p_amarillo\n",
    "print(\"p(b2|amarillo)=\",p_b2_amarillo)"
   ]
  },
  {
   "cell_type": "markdown",
   "metadata": {},
   "source": [
    "What are the probabilities that the green one came from Bag 1 and Bag 2 respectively?"
   ]
  },
  {
   "cell_type": "code",
   "execution_count": 12,
   "metadata": {},
   "outputs": [
    {
     "name": "stdout",
     "output_type": "stream",
     "text": [
      "p(b1|verde)= 0.04666666666666667\n",
      "p(b2|verde)= 0.13333333333333333\n"
     ]
    }
   ],
   "source": [
    "p_verde_b1=0.1\n",
    "p_b1=0.5\n",
    "p_verde=0.1*0.5+0.2*0.5\n",
    "p_amarillo_b2=0.14\n",
    "p_b1_verde=p_verde_b1*p_amarillo_b2*p_b1/p_verde\n",
    "p_b1_verde\n",
    "\n",
    "p_verde_b2=0.2\n",
    "p_b2=0.5\n",
    "p_verde=0.1*0.5+0.2*0.5\n",
    "p_amarillo_b1=0.2\n",
    "p_b2_verde=p_verde_b2*p_amarillo_b1*p_b2/p_verde\n",
    "p_b2_verde\n",
    "\n",
    "print(\"p(b1|verde)=\",p_b1_verde)\n",
    "print(\"p(b2|verde)=\",p_b2_verde)"
   ]
  },
  {
   "cell_type": "markdown",
   "metadata": {},
   "source": [
    "## 3. Monty Hall Problem\n",
    "\n",
    "Suppose you are a contestant on the popular game show *Let's Make a Deal*. The host of the show (Monty Hall) presents you with three doors - Door A, Door B, and Door C. He tells you that there is a sports car behind one of them and if you choose the correct one, you win the car!\n",
    "\n",
    "You select Door A, but then Monty makes things a little more interesting. He opens Door B to reveal that there is no sports car behind it and asks you if you would like to stick with your choice of Door A or switch your choice to Door C. Given this new information, what are the probabilities of you winning the car if you stick with Door A versus if you switch to Door C?"
   ]
  },
  {
   "cell_type": "code",
   "execution_count": 44,
   "metadata": {},
   "outputs": [
    {
     "name": "stdout",
     "output_type": "stream",
     "text": [
      "p(A|B)= 0.3333333333333333\n"
     ]
    }
   ],
   "source": [
    "#Si A fuera correcta\n",
    "prob_B_A=1/2\n",
    "prob_C_A=1/2\n",
    "prob_A=1/3\n",
    "prob_C=1/3\n",
    "prob_B_C=1\n",
    "prob_B=(prob_B_A*prob_A)+(prob_B_C*prob_C)\n",
    "prob_A_B=(prob_B_A*prob_A)/prob_B\n",
    "print(\"p(A|B)=\",prob_A_B)\n"
   ]
  },
  {
   "cell_type": "code",
   "execution_count": 45,
   "metadata": {},
   "outputs": [
    {
     "name": "stdout",
     "output_type": "stream",
     "text": [
      "p(C|B)= 0.6666666666666666\n"
     ]
    }
   ],
   "source": [
    "#Si A no fuera la correcta \n",
    "prob_C_B=(prob_B_C*prob_C)/prob_B\n",
    "print(\"p(C|B)=\",prob_C_B)\n"
   ]
  },
  {
   "cell_type": "markdown",
   "metadata": {},
   "source": [
    "## 4. Bayesian Analysis \n",
    "\n",
    "Suppose you work for a landscaping company, and they want to advertise their service online. They create an ad and sit back waiting for the money to roll in. On the first day, the ad sends 100 visitors to the site and 14 of them sign up for landscaping services. Create a generative model to come up with the posterior distribution and produce a visualization of what the posterior distribution would look like given the observed data."
   ]
  },
  {
   "cell_type": "code",
   "execution_count": 34,
   "metadata": {},
   "outputs": [],
   "source": [
    "import matplotlib.pyplot as plt\n",
    "%matplotlib inline\n",
    "\n",
    "n_draws = 100000\n",
    "prior = pd.Series(np.random.uniform(0, 1, size=n_draws))\n",
    "\n",
    "def generative_model(param):\n",
    "    result = np.random.binomial(100, param)\n",
    "    return result\n",
    "\n",
    "sim_data = list()\n",
    "\n",
    "for p in prior:\n",
    "    sim_data.append(generative_model(p))\n",
    "\n",
    "posterior = prior[list(map(lambda x: x == 14, sim_data))]"
   ]
  },
  {
   "cell_type": "markdown",
   "metadata": {},
   "source": [
    "Produce a set of descriptive statistics for the posterior distribution."
   ]
  },
  {
   "cell_type": "code",
   "execution_count": 35,
   "metadata": {},
   "outputs": [
    {
     "data": {
      "text/plain": [
       "count    967.000000\n",
       "mean       0.147677\n",
       "std        0.036353\n",
       "min        0.057062\n",
       "25%        0.122927\n",
       "50%        0.145465\n",
       "75%        0.171351\n",
       "max        0.287497\n",
       "dtype: float64"
      ]
     },
     "execution_count": 35,
     "metadata": {},
     "output_type": "execute_result"
    }
   ],
   "source": [
    "posterior.describe()"
   ]
  },
  {
   "cell_type": "code",
   "execution_count": 36,
   "metadata": {},
   "outputs": [
    {
     "data": {
      "image/png": "[encoded data removed]",
      "text/plain": [
       "<Figure size 432x288 with 1 Axes>"
      ]
     },
     "metadata": {
      "needs_background": "light"
     },
     "output_type": "display_data"
    }
   ],
   "source": [
    "posterior.hist()\n",
    "plt.show()"
   ]
  },
  {
   "cell_type": "markdown",
   "metadata": {},
   "source": [
    "What is the 90% credible interval range?"
   ]
  },
  {
   "cell_type": "code",
   "execution_count": 37,
   "metadata": {},
   "outputs": [
    {
     "name": "stdout",
     "output_type": "stream",
     "text": [
      "0.09291367903566829 | 0.20974839995977318\n"
     ]
    }
   ],
   "source": [
    "print(posterior.quantile(.05), '|', posterior.quantile(.95))"
   ]
  },
  {
   "cell_type": "markdown",
   "metadata": {},
   "source": [
    "What is the Maximum Likelihood Estimate?"
   ]
  },
  {
   "cell_type": "code",
   "execution_count": 38,
   "metadata": {},
   "outputs": [
    {
     "name": "stdout",
     "output_type": "stream",
     "text": [
      "Maximum Likelihood Estimate:  0.15 | 0.11995863495346432\n"
     ]
    }
   ],
   "source": [
    "rounded = posterior.round(2)\n",
    "mode = rounded.mode()[0]\n",
    "probability = list(rounded).count(mode)/len(rounded)\n",
    "print('Maximum Likelihood Estimate: ', mode, '|',probability)"
   ]
  }
 ],
 "metadata": {
  "kernelspec": {
   "display_name": "Python 3",
   "language": "python",
   "name": "python3"
  },
  "language_info": {
   "codemirror_mode": {
    "name": "ipython",
    "version": 3
   },
   "file_extension": ".py",
   "mimetype": "text/x-python",
   "name": "python",
   "nbconvert_exporter": "python",
   "pygments_lexer": "ipython3",
   "version": "3.8.8"
  }
 },
 "nbformat": 4,
 "nbformat_minor": 2
}
